{
 "cells": [
  {
   "cell_type": "markdown",
   "metadata": {},
   "source": [
    "## "
   ]
  },
  {
   "cell_type": "code",
   "execution_count": 1,
   "metadata": {},
   "outputs": [],
   "source": [
    "import numpy as np\n",
    "import pandas as pd"
   ]
  },
  {
   "cell_type": "code",
   "execution_count": 2,
   "metadata": {},
   "outputs": [
    {
     "data": {
      "text/html": [
       "<div>\n",
       "<style scoped>\n",
       "    .dataframe tbody tr th:only-of-type {\n",
       "        vertical-align: middle;\n",
       "    }\n",
       "\n",
       "    .dataframe tbody tr th {\n",
       "        vertical-align: top;\n",
       "    }\n",
       "\n",
       "    .dataframe thead th {\n",
       "        text-align: right;\n",
       "    }\n",
       "</style>\n",
       "<table border=\"1\" class=\"dataframe\">\n",
       "  <thead>\n",
       "    <tr style=\"text-align: right;\">\n",
       "      <th></th>\n",
       "      <th>L.TINY</th>\n",
       "      <th>TINY</th>\n",
       "      <th>KID</th>\n",
       "      <th>TEEN</th>\n",
       "      <th>ADULT</th>\n",
       "      <th>FAMILY</th>\n",
       "      <th>DEMO</th>\n",
       "      <th>STOP</th>\n",
       "      <th>TUE</th>\n",
       "      <th>WED</th>\n",
       "      <th>THU</th>\n",
       "      <th>FRI</th>\n",
       "      <th>SAT</th>\n",
       "      <th>SUN</th>\n",
       "    </tr>\n",
       "    <tr>\n",
       "      <th>MONTH</th>\n",
       "      <th></th>\n",
       "      <th></th>\n",
       "      <th></th>\n",
       "      <th></th>\n",
       "      <th></th>\n",
       "      <th></th>\n",
       "      <th></th>\n",
       "      <th></th>\n",
       "      <th></th>\n",
       "      <th></th>\n",
       "      <th></th>\n",
       "      <th></th>\n",
       "      <th></th>\n",
       "      <th></th>\n",
       "    </tr>\n",
       "  </thead>\n",
       "  <tbody>\n",
       "    <tr>\n",
       "      <th>JAN</th>\n",
       "      <td>36</td>\n",
       "      <td>38</td>\n",
       "      <td>195</td>\n",
       "      <td>49</td>\n",
       "      <td>18</td>\n",
       "      <td>4</td>\n",
       "      <td>21</td>\n",
       "      <td>15</td>\n",
       "      <td>38</td>\n",
       "      <td>32</td>\n",
       "      <td>35</td>\n",
       "      <td>44</td>\n",
       "      <td>129</td>\n",
       "      <td>93</td>\n",
       "    </tr>\n",
       "    <tr>\n",
       "      <th>FEB</th>\n",
       "      <td>37</td>\n",
       "      <td>38</td>\n",
       "      <td>198</td>\n",
       "      <td>51</td>\n",
       "      <td>17</td>\n",
       "      <td>2</td>\n",
       "      <td>14</td>\n",
       "      <td>4</td>\n",
       "      <td>39</td>\n",
       "      <td>30</td>\n",
       "      <td>36</td>\n",
       "      <td>37</td>\n",
       "      <td>125</td>\n",
       "      <td>100</td>\n",
       "    </tr>\n",
       "    <tr>\n",
       "      <th>MAR</th>\n",
       "      <td>37</td>\n",
       "      <td>39</td>\n",
       "      <td>193</td>\n",
       "      <td>54</td>\n",
       "      <td>35</td>\n",
       "      <td>1</td>\n",
       "      <td>13</td>\n",
       "      <td>21</td>\n",
       "      <td>48</td>\n",
       "      <td>36</td>\n",
       "      <td>37</td>\n",
       "      <td>41</td>\n",
       "      <td>124</td>\n",
       "      <td>100</td>\n",
       "    </tr>\n",
       "    <tr>\n",
       "      <th>APR</th>\n",
       "      <td>56</td>\n",
       "      <td>39</td>\n",
       "      <td>200</td>\n",
       "      <td>55</td>\n",
       "      <td>39</td>\n",
       "      <td>0</td>\n",
       "      <td>14</td>\n",
       "      <td>1</td>\n",
       "      <td>48</td>\n",
       "      <td>34</td>\n",
       "      <td>36</td>\n",
       "      <td>41</td>\n",
       "      <td>127</td>\n",
       "      <td>97</td>\n",
       "    </tr>\n",
       "    <tr>\n",
       "      <th>MAY</th>\n",
       "      <td>77</td>\n",
       "      <td>39</td>\n",
       "      <td>207</td>\n",
       "      <td>55</td>\n",
       "      <td>41</td>\n",
       "      <td>0</td>\n",
       "      <td>14</td>\n",
       "      <td>0</td>\n",
       "      <td>50</td>\n",
       "      <td>36</td>\n",
       "      <td>40</td>\n",
       "      <td>45</td>\n",
       "      <td>127</td>\n",
       "      <td>97</td>\n",
       "    </tr>\n",
       "    <tr>\n",
       "      <th>JUN</th>\n",
       "      <td>68</td>\n",
       "      <td>39</td>\n",
       "      <td>209</td>\n",
       "      <td>54</td>\n",
       "      <td>45</td>\n",
       "      <td>0</td>\n",
       "      <td>14</td>\n",
       "      <td>0</td>\n",
       "      <td>49</td>\n",
       "      <td>37</td>\n",
       "      <td>40</td>\n",
       "      <td>44</td>\n",
       "      <td>130</td>\n",
       "      <td>102</td>\n",
       "    </tr>\n",
       "  </tbody>\n",
       "</table>\n",
       "</div>"
      ],
      "text/plain": [
       "       L.TINY  TINY  KID  TEEN  ADULT  FAMILY  DEMO  STOP  TUE  WED  THU  FRI  \\\n",
       "MONTH                                                                           \n",
       "JAN        36    38  195    49     18       4    21    15   38   32   35   44   \n",
       "FEB        37    38  198    51     17       2    14     4   39   30   36   37   \n",
       "MAR        37    39  193    54     35       1    13    21   48   36   37   41   \n",
       "APR        56    39  200    55     39       0    14     1   48   34   36   41   \n",
       "MAY        77    39  207    55     41       0    14     0   50   36   40   45   \n",
       "JUN        68    39  209    54     45       0    14     0   49   37   40   44   \n",
       "\n",
       "       SAT  SUN  \n",
       "MONTH            \n",
       "JAN    129   93  \n",
       "FEB    125  100  \n",
       "MAR    124  100  \n",
       "APR    127   97  \n",
       "MAY    127   97  \n",
       "JUN    130  102  "
      ]
     },
     "execution_count": 2,
     "metadata": {},
     "output_type": "execute_result"
    }
   ],
   "source": [
    "df = pd.read_csv('ALL_BUK_AT.csv', index_col = 0)\n",
    "df"
   ]
  },
  {
   "cell_type": "code",
   "execution_count": 3,
   "metadata": {},
   "outputs": [],
   "source": [
    "import seaborn as sns\n",
    "from matplotlib import pyplot as plt"
   ]
  },
  {
   "cell_type": "code",
   "execution_count": 4,
   "metadata": {},
   "outputs": [
    {
     "data": {
      "text/plain": [
       "Index(['L.TINY', 'TINY', 'KID', 'TEEN', 'ADULT', 'FAMILY', 'DEMO', 'STOP',\n",
       "       'TUE', 'WED', 'THU', 'FRI', 'SAT', 'SUN'],\n",
       "      dtype='object')"
      ]
     },
     "execution_count": 4,
     "metadata": {},
     "output_type": "execute_result"
    }
   ],
   "source": [
    "# 열카테고리\n",
    "df.columns"
   ]
  },
  {
   "cell_type": "code",
   "execution_count": 5,
   "metadata": {},
   "outputs": [
    {
     "data": {
      "text/plain": [
       "Index(['JAN', 'FEB', 'MAR', 'APR', 'MAY', 'JUN'], dtype='object', name='MONTH')"
      ]
     },
     "execution_count": 5,
     "metadata": {},
     "output_type": "execute_result"
    }
   ],
   "source": [
    "# 행 카테고리\n",
    "df.index"
   ]
  },
  {
   "cell_type": "code",
   "execution_count": 7,
   "metadata": {},
   "outputs": [
    {
     "data": {
      "text/plain": [
       "(6, 14)"
      ]
     },
     "execution_count": 7,
     "metadata": {},
     "output_type": "execute_result"
    }
   ],
   "source": [
    "# 행과 열의 개수\n",
    "df.shape"
   ]
  },
  {
   "cell_type": "code",
   "execution_count": null,
   "metadata": {},
   "outputs": [],
   "source": [
    "# 클라스추이\n",
    "- 막대그래프(BAR CHART)\n",
    "- 선 도표(LINE CHART)\n",
    "- 면적그래프(AREA CHART)\n",
    "- 원그래프/파이도(PIE CHART)"
   ]
  }
 ],
 "metadata": {
  "kernelspec": {
   "display_name": "Python 3",
   "language": "python",
   "name": "python3"
  },
  "language_info": {
   "codemirror_mode": {
    "name": "ipython",
    "version": 3
   },
   "file_extension": ".py",
   "mimetype": "text/x-python",
   "name": "python",
   "nbconvert_exporter": "python",
   "pygments_lexer": "ipython3",
   "version": "3.8.5"
  }
 },
 "nbformat": 4,
 "nbformat_minor": 4
}
